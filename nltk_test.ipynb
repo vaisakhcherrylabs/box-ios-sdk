{
  "nbformat": 4,
  "nbformat_minor": 0,
  "metadata": {
    "colab": {
      "name": "Untitled2.ipynb",
      "version": "0.3.2",
      "provenance": [],
      "include_colab_link": true
    },
    "kernelspec": {
      "name": "python3",
      "display_name": "Python 3"
    }
  },
  "cells": [
    {
      "cell_type": "markdown",
      "metadata": {
        "id": "view-in-github",
        "colab_type": "text"
      },
      "source": [
        "<a href=\"https://colab.research.google.com/github/vaisakhcherrylabs/box-ios-sdk/blob/master/nltk_test.ipynb\" target=\"_parent\"><img src=\"https://colab.research.google.com/assets/colab-badge.svg\" alt=\"Open In Colab\"/></a>"
      ]
    },
    {
      "metadata": {
        "id": "MZTdsLiA2m03",
        "colab_type": "code",
        "colab": {}
      },
      "cell_type": "code",
      "source": [
        "import os\n",
        "import nltk\n",
        "import nltk.corpus"
      ],
      "execution_count": 0,
      "outputs": []
    },
    {
      "metadata": {
        "id": "DZUgRlMnASr8",
        "colab_type": "code",
        "outputId": "eaba14d6-e853-4b10-edaa-96474d4f3f86",
        "colab": {
          "base_uri": "https://localhost:8080/",
          "height": 34
        }
      },
      "cell_type": "code",
      "source": [
        "import nltk.classify.util\n",
        "from nltk.classify import NaiveBayesClassifier\n",
        "from nltk.corpus import movie_reviews\n",
        " \n",
        "def word_feats(words):\n",
        "    return dict([(word, True) for word in words])\n",
        " \n",
        "\n",
        "print(movie_reviews)\n",
        "      \n",
        " \n",
        "negids = movie_reviews.fileids('neg')\n",
        "posids = movie_reviews.fileids('pos')\n",
        " "
      ],
      "execution_count": 0,
      "outputs": [
        {
          "output_type": "stream",
          "text": [
            "<CategorizedPlaintextCorpusReader in '/root/nltk_data/corpora/movie_reviews'>\n"
          ],
          "name": "stdout"
        }
      ]
    },
    {
      "metadata": {
        "id": "krPOTPiqB4Aa",
        "colab_type": "code",
        "outputId": "449579c3-40f4-4685-c0fb-081874df8c26",
        "colab": {
          "base_uri": "https://localhost:8080/",
          "height": 130
        }
      },
      "cell_type": "code",
      "source": [
        "\n",
        "negfeats = [(word_feats(movie_reviews.words(fileids=[f])), 'neg') for f in negids]\n",
        "posfeats = [(word_feats(movie_reviews.words(fileids=[f])), 'pos') for f in posids]\n",
        " \n",
        "negcutoff = len(negfeats)*3/4\n",
        "poscutoff = len(posfeats)*3/4\n",
        " \n",
        "trainfeats = negfeats[:negcutoff] + posfeats[:poscutoff]\n",
        "testfeats = negfeats[negcutoff:] + posfeats[poscutoff:]\n",
        "print 'train on %d instances, test on %d instances' % (len(trainfeats), len(testfeats))\n",
        " \n",
        "classifier = NaiveBayesClassifier.train(trainfeats)\n",
        "print 'accuracy:', nltk.classify.util.accuracy(classifier, testfeats)\n",
        "classifier.show_most_informative_features()"
      ],
      "execution_count": 0,
      "outputs": [
        {
          "output_type": "error",
          "ename": "SyntaxError",
          "evalue": "ignored",
          "traceback": [
            "\u001b[0;36m  File \u001b[0;32m\"<ipython-input-33-ebf0d03c8c89>\"\u001b[0;36m, line \u001b[0;32m10\u001b[0m\n\u001b[0;31m    print 'train on %d instances, test on %d instances' % (len(trainfeats), len(testfeats))\u001b[0m\n\u001b[0m                                                      ^\u001b[0m\n\u001b[0;31mSyntaxError\u001b[0m\u001b[0;31m:\u001b[0m invalid syntax\n"
          ]
        }
      ]
    }
  ]
}